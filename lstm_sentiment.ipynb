{
 "cells": [
  {
   "cell_type": "code",
   "execution_count": 2,
   "metadata": {},
   "outputs": [],
   "source": [
    "from keras.layers.core import Activation, Dense, Dropout, SpatialDropout1D\n",
    "from keras.layers.embeddings import Embedding\n",
    "from keras.layers.recurrent import LSTM\n",
    "from keras.models import Sequential\n",
    "from keras.preprocessing import sequence\n",
    "from sklearn.model_selection import train_test_split\n",
    "import collections\n",
    "import matplotlib.pyplot as plt\n",
    "import nltk\n",
    "import numpy as np\n",
    "import os"
   ]
  },
  {
   "cell_type": "markdown",
   "metadata": {},
   "source": [
    "Воспользуемся LSTM чтобы построить и обучить модель типа многие-к-одному. Сеть будет принимать предложение и выдавать индикатор эмоциональной окраски. Обучающий набор состоит из 7000 коротких предложений.\n"
   ]
  },
  {
   "cell_type": "code",
   "execution_count": 32,
   "metadata": {},
   "outputs": [],
   "source": [
    "DATA_DIR = \"data/\""
   ]
  },
  {
   "cell_type": "code",
   "execution_count": 15,
   "metadata": {},
   "outputs": [],
   "source": [
    "maxlen = 0\n",
    "word_freqs = collections.Counter()\n",
    "num_recs = 0\n",
    "ftrain = open(os.path.join(DATA_DIR, \"training.txt\"), 'r')\n",
    "for line in ftrain:\n",
    "    label, sentence = line.strip().split(\"\\t\")\n",
    "    words = nltk.word_tokenize(sentence.lower())\n",
    "    if len(words) > maxlen:\n",
    "        maxlen = len(words)\n",
    "    for word in words:\n",
    "        word_freqs[word] += 1\n",
    "    num_recs += 1\n",
    "ftrain.close()"
   ]
  },
  {
   "cell_type": "code",
   "execution_count": 19,
   "metadata": {},
   "outputs": [
    {
     "name": "stdout",
     "output_type": "stream",
     "text": [
      "Слов в предложении максимально 42\n",
      "Уникальных слов : 2326\n"
     ]
    }
   ],
   "source": [
    "print('Слов в предложении максимально '+str(maxlen))          \n",
    "print('Уникальных слов : '+str(len(word_freqs)))"
   ]
  },
  {
   "cell_type": "markdown",
   "metadata": {},
   "source": [
    "Зная количество уникальных слов, мы задаем фиксированный размер словаря, а все остальные слова считаем несловарными и заменяем их фиктивным словом UNK(unknown). На этапе предсказания это позволит обрабатывать ранее не встречавшиеся слова. Зная максимальное количество слов в предложении можно задать фиксированную длину предложения и более короткие предложения дополнять нулями, а более длинные обрезать. Задаем VOCABULARY_SIZE=2002. Это 2000 слов в словаре плюс фиктивное UNK и PAD."
   ]
  },
  {
   "cell_type": "code",
   "execution_count": 7,
   "metadata": {},
   "outputs": [],
   "source": [
    "MAX_FEATURES = 2000\n",
    "MAX_SENTENCE_LENGTH = 40\n",
    "\n",
    "EMBEDDING_SIZE = 128\n",
    "HIDDEN_LAYER_SIZE = 64\n",
    "BATCH_SIZE = 32\n",
    "NUM_EPOCHS = 10"
   ]
  },
  {
   "cell_type": "markdown",
   "metadata": {},
   "source": [
    "Далее понадобится пара таблиц соответствия. Входными данными для LSTM является строка индексов слов, причем слова упорядочены по убыванию частоты встречаемости в обучающем наборе. Табоицы соттветствия позволяют находить индекс по слову и слово по индексу."
   ]
  },
  {
   "cell_type": "code",
   "execution_count": 20,
   "metadata": {},
   "outputs": [],
   "source": [
    "vocab_size = min(MAX_FEATURES, len(word_freqs)) + 2\n",
    "word2index = {x[0]: i+2 for i, x in \n",
    "                enumerate(word_freqs.most_common(MAX_FEATURES))}\n",
    "word2index[\"PAD\"] = 0\n",
    "word2index[\"UNK\"] = 1\n",
    "index2word = {v:k for k, v in word2index.items()}"
   ]
  },
  {
   "cell_type": "markdown",
   "metadata": {},
   "source": [
    "Затем мы преобразуем входные предложения в последовательности индексов слов, дополняя их до MAX_SENTENCE_LENGT слов. Поскольку в нашем случае результатом является бинарная величина, обрабатывать метки  не нужно."
   ]
  },
  {
   "cell_type": "code",
   "execution_count": 25,
   "metadata": {},
   "outputs": [],
   "source": [
    "X = np.empty((num_recs, ), dtype=list)\n",
    "y = np.zeros((num_recs, ))\n",
    "i = 0\n",
    "ftrain = open(os.path.join(DATA_DIR, \"training.txt\"), 'r')\n",
    "for line in ftrain:\n",
    "    label, sentence = line.strip().split(\"\\t\")\n",
    "    words = nltk.word_tokenize(sentence.lower())\n",
    "    seqs = []\n",
    "    for word in words:\n",
    "        if word in word2index:\n",
    "            seqs.append(word2index[word])\n",
    "        else:\n",
    "            seqs.append(word2index[\"UNK\"])\n",
    "    X[i] = seqs\n",
    "    y[i] = int(label)\n",
    "    i += 1\n",
    "ftrain.close()\n",
    "X = sequence.pad_sequences(X, maxlen=MAX_SENTENCE_LENGTH)"
   ]
  },
  {
   "cell_type": "code",
   "execution_count": 26,
   "metadata": {},
   "outputs": [
    {
     "data": {
      "text/plain": [
       "array([[  0,   0,   0, ...,  48,  22,   4],\n",
       "       [  0,   0,   0, ..., 341,  67,   4],\n",
       "       [  0,   0,   0, ...,  18, 325,   4],\n",
       "       ...,\n",
       "       [  0,   0,   0, ...,  11,  13,   4],\n",
       "       [  0,   0,   0, ..., 127,  26,   4],\n",
       "       [  0,   0,   0, ...,  87,  26,   4]], dtype=int32)"
      ]
     },
     "execution_count": 26,
     "metadata": {},
     "output_type": "execute_result"
    }
   ],
   "source": [
    "X"
   ]
  },
  {
   "cell_type": "code",
   "execution_count": 27,
   "metadata": {},
   "outputs": [
    {
     "data": {
      "text/plain": [
       "array([1., 1., 1., ..., 0., 0., 0.])"
      ]
     },
     "execution_count": 27,
     "metadata": {},
     "output_type": "execute_result"
    }
   ],
   "source": [
    "y"
   ]
  },
  {
   "cell_type": "code",
   "execution_count": 28,
   "metadata": {},
   "outputs": [
    {
     "name": "stdout",
     "output_type": "stream",
     "text": [
      "(5668, 40) (1418, 40) (5668,) (1418,)\n"
     ]
    }
   ],
   "source": [
    "Xtrain, Xtest, ytrain, ytest = train_test_split(X, y, test_size=0.2, \n",
    "                                                random_state=42)\n",
    "print(Xtrain.shape, Xtest.shape, ytrain.shape, ytest.shape)"
   ]
  },
  {
   "attachments": {},
   "cell_type": "markdown",
   "metadata": {},
   "source": [
    "Входными данными является последовательность индексов слов. Длина последовательности равна MAX_SENTENCE_LENGTH. Тензоры размера (None, MAX_SENTENCE_LENGTH,1)  подаются на вход слоя погружения размера EMBEDDING_SIZE, веса которого инициализированы небольшими случайными значениями и подлежат обучению. Этот слой преобразует входной тензор к форме (None, MAX_SENTENCE_LENGTH, EMBEDDING_SIZE). Выход слоя погружения загружается в LSTM с длиной последовательности MAX_SENTENCE_LENGTH и зармером выходного слоя HIDDEN_LAYER_SIZE. На выходе LSTM получается тензор формы (None, HIDDEN_LAYER_SIZE,MAX_SENTENCE_LENGTH). По умолчанию LSTM выводит единственный тензор формы (None,HIDDEN_LAYER_SIZE) в качестве результрующей последовательности. Он подается на вход плотного слоя с размером выхода 1 и сигмоидной функцией активации, который выводит 0 или 1."
   ]
  },
  {
   "cell_type": "code",
   "execution_count": 30,
   "metadata": {},
   "outputs": [],
   "source": [
    "# Build model\n",
    "model = Sequential()\n",
    "model.add(Embedding(vocab_size, EMBEDDING_SIZE, \n",
    "                    input_length=MAX_SENTENCE_LENGTH))\n",
    "model.add(SpatialDropout1D(0.2))\n",
    "model.add(LSTM(HIDDEN_LAYER_SIZE, dropout=0.2, recurrent_dropout=0.2))\n",
    "model.add(Dense(1))\n",
    "model.add(Activation(\"sigmoid\"))\n",
    "\n",
    "model.compile(loss=\"binary_crossentropy\", optimizer=\"adam\", \n",
    "              metrics=[\"accuracy\"])\n"
   ]
  },
  {
   "cell_type": "code",
   "execution_count": 31,
   "metadata": {},
   "outputs": [
    {
     "name": "stderr",
     "output_type": "stream",
     "text": [
      "/Users/markpotanin/anaconda3/lib/python3.6/site-packages/tensorflow_core/python/framework/indexed_slices.py:424: UserWarning: Converting sparse IndexedSlices to a dense Tensor of unknown shape. This may consume a large amount of memory.\n",
      "  \"Converting sparse IndexedSlices to a dense Tensor of unknown shape. \"\n"
     ]
    },
    {
     "name": "stdout",
     "output_type": "stream",
     "text": [
      "Train on 5668 samples, validate on 1418 samples\n",
      "Epoch 1/10\n",
      "5668/5668 [==============================] - 6s 1ms/step - loss: 0.2364 - accuracy: 0.8956 - val_loss: 0.0638 - val_accuracy: 0.9753\n",
      "Epoch 2/10\n",
      "5668/5668 [==============================] - 4s 764us/step - loss: 0.0249 - accuracy: 0.9922 - val_loss: 0.0498 - val_accuracy: 0.9838\n",
      "Epoch 3/10\n",
      "5668/5668 [==============================] - 4s 709us/step - loss: 0.0079 - accuracy: 0.9984 - val_loss: 0.0513 - val_accuracy: 0.9866\n",
      "Epoch 4/10\n",
      "5668/5668 [==============================] - 4s 784us/step - loss: 0.0076 - accuracy: 0.9982 - val_loss: 0.0409 - val_accuracy: 0.9887\n",
      "Epoch 5/10\n",
      "5668/5668 [==============================] - 4s 725us/step - loss: 0.0052 - accuracy: 0.9989 - val_loss: 0.0416 - val_accuracy: 0.9873\n",
      "Epoch 6/10\n",
      "5668/5668 [==============================] - 5s 842us/step - loss: 0.0016 - accuracy: 0.9998 - val_loss: 0.0452 - val_accuracy: 0.9901\n",
      "Epoch 7/10\n",
      "5668/5668 [==============================] - 4s 726us/step - loss: 0.0026 - accuracy: 0.9996 - val_loss: 0.0487 - val_accuracy: 0.9887\n",
      "Epoch 8/10\n",
      "5668/5668 [==============================] - 4s 760us/step - loss: 6.6807e-04 - accuracy: 0.9998 - val_loss: 0.0665 - val_accuracy: 0.9880\n",
      "Epoch 9/10\n",
      "5668/5668 [==============================] - 5s 865us/step - loss: 0.0018 - accuracy: 0.9998 - val_loss: 0.0516 - val_accuracy: 0.9873\n",
      "Epoch 10/10\n",
      "5668/5668 [==============================] - 5s 874us/step - loss: 0.0021 - accuracy: 0.9995 - val_loss: 0.0520 - val_accuracy: 0.9894\n"
     ]
    }
   ],
   "source": [
    "history = model.fit(Xtrain, ytrain, batch_size=BATCH_SIZE, \n",
    "                    epochs=NUM_EPOCHS,\n",
    "                    validation_data=(Xtest, ytest))"
   ]
  },
  {
   "cell_type": "code",
   "execution_count": 35,
   "metadata": {},
   "outputs": [
    {
     "data": {
      "image/png": "[encoded data removed]",
      "text/plain": [
       "<Figure size 432x288 with 2 Axes>"
      ]
     },
     "metadata": {
      "needs_background": "light"
     },
     "output_type": "display_data"
    }
   ],
   "source": [
    "plt.subplot(211)\n",
    "plt.title(\"Accuracy\")\n",
    "plt.plot(history.history[\"accuracy\"], color=\"g\", label=\"Train\")\n",
    "plt.plot(history.history[\"val_accuracy\"], color=\"b\", label=\"Validation\")\n",
    "plt.legend(loc=\"best\")\n",
    "\n",
    "plt.subplot(212)\n",
    "plt.title(\"Loss\")\n",
    "plt.plot(history.history[\"loss\"], color=\"g\", label=\"Train\")\n",
    "plt.plot(history.history[\"val_loss\"], color=\"b\", label=\"Validation\")\n",
    "plt.legend(loc=\"best\")\n",
    "\n",
    "plt.tight_layout()\n",
    "plt.show()"
   ]
  },
  {
   "cell_type": "code",
   "execution_count": 36,
   "metadata": {},
   "outputs": [
    {
     "name": "stdout",
     "output_type": "stream",
     "text": [
      "1418/1418 [==============================] - 0s 225us/step\n",
      "Test score: 0.052, accuracy: 0.989\n"
     ]
    }
   ],
   "source": [
    "score, acc = model.evaluate(Xtest, ytest, batch_size=BATCH_SIZE)\n",
    "print(\"Test score: %.3f, accuracy: %.3f\" % (score, acc))"
   ]
  },
  {
   "cell_type": "code",
   "execution_count": 37,
   "metadata": {},
   "outputs": [
    {
     "name": "stdout",
     "output_type": "stream",
     "text": [
      "1\t1\tthe people who are worth it know how much i love the da vinci code .\n",
      "0\t0\tbrokeback mountain is so depressing ! (\n",
      "1\t1\tmission impossible was awesome .\n",
      "1\t1\twe 're gon na like watch mission impossible or hoot . (\n",
      "0\t0\tand i hate wesley almost as much as i hate harry potter , but that does n't mean captain picard still was n't a douche and a half that day .\n"
     ]
    }
   ],
   "source": [
    "for i in range(5):\n",
    "    idx = np.random.randint(len(Xtest))\n",
    "    xtest = Xtest[idx].reshape(1,40)\n",
    "    ylabel = ytest[idx]\n",
    "    ypred = model.predict(xtest)[0][0]\n",
    "    sent = \" \".join([index2word[x] for x in xtest[0].tolist() if x != 0])\n",
    "    print(\"%.0f\\t%d\\t%s\" % (ypred, ylabel, sent))"
   ]
  },
  {
   "cell_type": "code",
   "execution_count": null,
   "metadata": {},
   "outputs": [],
   "source": []
  }
 ],
 "metadata": {
  "kernelspec": {
   "display_name": "Python 3",
   "language": "python",
   "name": "python3"
  },
  "language_info": {
   "codemirror_mode": {
    "name": "ipython",
    "version": 3
   },
   "file_extension": ".py",
   "mimetype": "text/x-python",
   "name": "python",
   "nbconvert_exporter": "python",
   "pygments_lexer": "ipython3",
   "version": "3.6.9"
  }
 },
 "nbformat": 4,
 "nbformat_minor": 2
}
